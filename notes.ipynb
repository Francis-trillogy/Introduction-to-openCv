{
 "cells": [
  {
   "cell_type": "code",
   "execution_count": 1,
   "id": "subsequent-forty",
   "metadata": {},
   "outputs": [],
   "source": [
    "import cv2"
   ]
  },
  {
   "cell_type": "code",
   "execution_count": 2,
   "id": "metallic-overall",
   "metadata": {},
   "outputs": [],
   "source": [
    "image = cv2.imread('./images/fran.jpeg',0)"
   ]
  },
  {
   "cell_type": "code",
   "execution_count": 3,
   "id": "postal-logan",
   "metadata": {},
   "outputs": [
    {
     "name": "stdout",
     "output_type": "stream",
     "text": [
      "[[252 252 252 ... 241 241 241]\n",
      " [252 252 252 ... 237 237 237]\n",
      " [252 252 252 ... 243 243 243]\n",
      " ...\n",
      " [ 52  50  73 ... 212 211 211]\n",
      " [ 57  49 114 ... 213 212 211]\n",
      " [ 52  54 147 ... 213 212 211]]\n"
     ]
    }
   ],
   "source": [
    "print(image)"
   ]
  },
  {
   "cell_type": "code",
   "execution_count": null,
   "id": "numerous-overall",
   "metadata": {},
   "outputs": [],
   "source": [
    "cv2.imshow('./images/fran.jpeg', image) # title and path to file\n",
    "cv2.waitKey(0) # Waits for the next key to be pressed\n",
    "cv2.destroyAllWindows()"
   ]
  }
 ],
 "metadata": {
  "kernelspec": {
   "display_name": "Python 3",
   "language": "python",
   "name": "python3"
  },
  "language_info": {
   "codemirror_mode": {
    "name": "ipython",
    "version": 3
   },
   "file_extension": ".py",
   "mimetype": "text/x-python",
   "name": "python",
   "nbconvert_exporter": "python",
   "pygments_lexer": "ipython3",
   "version": "3.7.10"
  }
 },
 "nbformat": 4,
 "nbformat_minor": 5
}
